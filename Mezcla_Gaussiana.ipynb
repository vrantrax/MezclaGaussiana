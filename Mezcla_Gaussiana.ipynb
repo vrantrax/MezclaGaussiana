{
 "cells": [
  {
   "cell_type": "markdown",
   "metadata": {},
   "source": [
    "El siguiente es un ejemplo de cómo se aplica GMM con una muestra unidimensional de datos.\n",
    "-----\n",
    "Primero declaramos todas las bibliotecas que utilizaremos en el ejercicio."
   ]
  },
  {
   "cell_type": "code",
   "execution_count": 1,
   "metadata": {},
   "outputs": [],
   "source": [
    "#Biblioteca para graficar\n",
    "import matplotlib.pyplot as plt \n",
    "\n",
    "#Biblioteca fundamental para la computación científica\n",
    "import numpy as np              \n",
    "\n",
    "#Extensión de numpy, con modelos estadísticos\n",
    "from scipy import stats     \n",
    "\n",
    "#Biblioteca basada en matplotlib, especializada en gráficos estadísticos\n",
    "import seaborn as sns \n",
    "\n",
    "#Biblioteca para la manipulación y análisis de datos\n",
    "import pandas as pd\n",
    "\n",
    "#Operaciones matemáticas\n",
    "from math import sqrt, log, exp, pi\n",
    "\n",
    "#uniform retorna un valor aleatorio dentro de un intervalo\n",
    "from random import uniform\n",
    "\n",
    "sns.set_style(\"white\")\n",
    "%matplotlib inline"
   ]
  },
  {
   "cell_type": "markdown",
   "metadata": {},
   "source": [
    "Para este ejemplo, se utilizará un conjunto de datos bimodal."
   ]
  },
  {
   "cell_type": "code",
   "execution_count": 2,
   "metadata": {},
   "outputs": [
    {
     "data": {
      "text/html": [
       "<div>\n",
       "<style scoped>\n",
       "    .dataframe tbody tr th:only-of-type {\n",
       "        vertical-align: middle;\n",
       "    }\n",
       "\n",
       "    .dataframe tbody tr th {\n",
       "        vertical-align: top;\n",
       "    }\n",
       "\n",
       "    .dataframe thead th {\n",
       "        text-align: right;\n",
       "    }\n",
       "</style>\n",
       "<table border=\"1\" class=\"dataframe\">\n",
       "  <thead>\n",
       "    <tr style=\"text-align: right;\">\n",
       "      <th></th>\n",
       "      <th>x</th>\n",
       "    </tr>\n",
       "  </thead>\n",
       "  <tbody>\n",
       "    <tr>\n",
       "      <th>0</th>\n",
       "      <td>0.252851</td>\n",
       "    </tr>\n",
       "    <tr>\n",
       "      <th>1</th>\n",
       "      <td>-1.034562</td>\n",
       "    </tr>\n",
       "    <tr>\n",
       "      <th>2</th>\n",
       "      <td>3.319558</td>\n",
       "    </tr>\n",
       "    <tr>\n",
       "      <th>3</th>\n",
       "      <td>4.552363</td>\n",
       "    </tr>\n",
       "    <tr>\n",
       "      <th>4</th>\n",
       "      <td>-0.775995</td>\n",
       "    </tr>\n",
       "  </tbody>\n",
       "</table>\n",
       "</div>"
      ],
      "text/plain": [
       "          x\n",
       "0  0.252851\n",
       "1 -1.034562\n",
       "2  3.319558\n",
       "3  4.552363\n",
       "4 -0.775995"
      ]
     },
     "execution_count": 2,
     "metadata": {},
     "output_type": "execute_result"
    }
   ],
   "source": [
    "df = pd.read_csv(\"bimodal_example.csv\")\n",
    "df.head(n=5)"
   ]
  },
  {
   "cell_type": "code",
   "execution_count": 3,
   "metadata": {},
   "outputs": [],
   "source": [
    "data = df.x"
   ]
  },
  {
   "cell_type": "markdown",
   "metadata": {},
   "source": [
    "Desplegamos los datos en una gráfica para poder apreciar su comportamiento."
   ]
  },
  {
   "cell_type": "code",
   "execution_count": 4,
   "metadata": {},
   "outputs": [
    {
     "data": {
      "image/png": "[encoded data removed]",
      "text/plain": [
       "<Figure size 432x288 with 1 Axes>"
      ]
     },
     "metadata": {
      "needs_background": "light"
     },
     "output_type": "display_data"
    }
   ],
   "source": [
    "sns.distplot(data,\n",
    "             bins=20,\n",
    "             kde=False);"
   ]
  },
  {
   "cell_type": "markdown",
   "metadata": {},
   "source": [
    "Claramente podemos ver que, a pesar de que podríamos aproximar las probabilidades en una curva normal, resulta una aproximación pobre."
   ]
  },
  {
   "cell_type": "code",
   "execution_count": 5,
   "metadata": {},
   "outputs": [
    {
     "data": {
      "image/png": "[encoded data removed]",
      "text/plain": [
       "<Figure size 432x288 with 1 Axes>"
      ]
     },
     "metadata": {
      "needs_background": "light"
     },
     "output_type": "display_data"
    }
   ],
   "source": [
    "sns.distplot(data,\n",
    "             fit=stats.norm,\n",
    "             bins=20,\n",
    "             kde=False,);"
   ]
  },
  {
   "cell_type": "markdown",
   "metadata": {},
   "source": [
    "Es por ello que debemos convertir esta curva de probabilidades a una mezcla gaussiana. Por las crestas en los datos, podemos inferir que una mezcla de dos gaussianas sería una eproximación cercana.\n",
    "\n",
    "Para empezar, debemos programar cómo se comportaría una distribución gaussiana, la cual tiene como parámetros $N(\\mu, \\sigma^2)$ \n",
    "La siguiente clase representa una distribución gaussiana. Dicha clase tiene los métodos \"init\" con los parámetros mu y sigma, la función de densidad de probabilidad (pdf) y la función \"repr\" que imprime en pantalla los parámetros de la gaussiana."
   ]
  },
  {
   "cell_type": "code",
   "execution_count": 6,
   "metadata": {},
   "outputs": [],
   "source": [
    "class Gaussian:\n",
    "    \"Model univariate Gaussian\"\n",
    "\n",
    "    def __init__(self, mu, sigma):\n",
    "        self.mu = mu\n",
    "        self.sigma = sigma\n",
    "\n",
    "    def pdf(self, datum):\n",
    "        \"Probability of a data point given the current parameters\"\n",
    "        u = (datum - self.mu) / abs(self.sigma)\n",
    "        y = (1 / (sqrt(2 * pi) * abs(self.sigma))) * exp(-u * u / 2)\n",
    "        return y\n",
    "\n",
    "    def __repr__(self):\n",
    "        return 'Gaussian({0:4.6}, {1:4.6})'.format(self.mu, self.sigma)"
   ]
  },
  {
   "cell_type": "markdown",
   "metadata": {},
   "source": [
    "Ya que tenemos lista una clase para la distribución gaussiana, requerimos de una clase para crear la mezcla gaussiana de las dos clases de los datos de entrada. La siguiente clase representa GMM para dos gaussianas.\n",
    "Entre sus métodos se encuentran los pasos E y M del algoritmo Expectativa-Maximización. "
   ]
  },
  {
   "cell_type": "code",
   "execution_count": 7,
   "metadata": {},
   "outputs": [],
   "source": [
    "class GaussianMixture:\n",
    "    \"Model mixture of two univariate Gaussians and their EM estimation\"\n",
    "\n",
    "    def __init__(self, data, mu_min=min(data), mu_max=max(data), sigma_min=.1, sigma_max=1, mix=.5):\n",
    "        self.data = data\n",
    "        self.one = Gaussian(uniform(mu_min, mu_max), \n",
    "                            uniform(sigma_min, sigma_max))\n",
    "        self.two = Gaussian(uniform(mu_min, mu_max), \n",
    "                            uniform(sigma_min, sigma_max))\n",
    "        self.mix = mix\n",
    "\n",
    "    def Estep(self):\n",
    "        \"Perform an E(stimation)-step, freshening up self.loglike in the process\"\n",
    "        # compute weights\n",
    "        self.loglike = 0. # = log(p = 1)\n",
    "        for datum in self.data:\n",
    "            # unnormalized weights\n",
    "            wp1 = self.one.pdf(datum) * self.mix\n",
    "            wp2 = self.two.pdf(datum) * (1. - self.mix)\n",
    "            # compute denominator\n",
    "            den = wp1 + wp2\n",
    "            # normalize\n",
    "            wp1 /= den\n",
    "            wp2 /= den\n",
    "            # add into loglike\n",
    "            self.loglike += log(wp1 + wp2)\n",
    "            # yield weight tuple\n",
    "            yield (wp1, wp2)\n",
    "\n",
    "    def Mstep(self, weights):\n",
    "        \"Perform an M(aximization)-step\"\n",
    "        # compute denominators\n",
    "        (left, rigt) = zip(*weights)\n",
    "        one_den = sum(left)\n",
    "        two_den = sum(rigt)\n",
    "        # compute new means\n",
    "        self.one.mu = sum(w * d / one_den for (w, d) in zip(left, data))\n",
    "        self.two.mu = sum(w * d / two_den for (w, d) in zip(rigt, data))\n",
    "        # compute new sigmas\n",
    "        self.one.sigma = sqrt(sum(w * ((d - self.one.mu) ** 2)\n",
    "                                  for (w, d) in zip(left, data)) / one_den)\n",
    "        self.two.sigma = sqrt(sum(w * ((d - self.two.mu) ** 2)\n",
    "                                  for (w, d) in zip(rigt, data)) / two_den)\n",
    "        # compute new mix\n",
    "        self.mix = one_den / len(data)\n",
    "\n",
    "    def iterate(self, N=1, verbose=False):\n",
    "        \"Perform N iterations, then compute log-likelihood\"\n",
    "        for i in range(1, N+1):\n",
    "            self.Mstep(self.Estep())\n",
    "            if verbose:\n",
    "                print('{0:2} {1}'.format(i, self))\n",
    "        self.Estep() # to freshen up self.loglike\n",
    "\n",
    "    def pdf(self, x):\n",
    "        return (self.mix)*self.one.pdf(x) + (1-self.mix)*self.two.pdf(x)\n",
    "        \n",
    "    def __repr__(self):\n",
    "        return 'GaussianMixture({0}, {1}, mix={2.03})'.format(self.one, \n",
    "                                                              self.two, \n",
    "                                                              self.mix)\n",
    "\n",
    "    def __str__(self):\n",
    "        return 'Mixture: {0}, {1}, mix={2:.03})'.format(self.one, \n",
    "                                                        self.two, \n",
    "                                                        self.mix)"
   ]
  },
  {
   "cell_type": "markdown",
   "metadata": {},
   "source": [
    "Ahora que ya contamos con las dos clases, tanto GaussianMixture como Gaussian, es momento de implementar la mezcla. Sin embargo, es recomendable que antes de realizar la mezcla gaussiana, se pruebe si la estimación de las mezclas es posible. ¿Cómo podemos apreciar eso? Si realizamos un par de iteraciones de prueba y vemos que los parámetros estimados convergen, podemos proceder a realizar la mezcla Gaussiana.\n",
    "Seguimos la siguiente secuencia de pasos para la breve prueba:\n",
    "\n",
    "1. Definimos el número de iteraciones.\n",
    "2. Creamos las variable requeridas para iniciar el proceso. \n",
    "\n",
    "    2.1. best_mix es la variable donde colocaremos la mejor mezcla.\n",
    "    \n",
    "    2.2. best_loglike es la variable donde colocaremos la probabilidad que mejor se aproxime entre las mezclas. Es la variable que nos indica si una mezcla es mejor que otra.\n",
    "    \n",
    "    2.2. mix guarda la mezcla donde se llevarán las iteraciones.    \n",
    "    \n",
    "3. Realizamos la mezcla \n",
    "\n",
    "Si los valores estimados de cada gaussiana son consistentes, es decir, no varían de forma significativa entre ellos con sus iteraciones anteriores, podemos afirmar que convergen."
   ]
  },
  {
   "cell_type": "code",
   "execution_count": 8,
   "metadata": {},
   "outputs": [
    {
     "name": "stdout",
     "output_type": "stream",
     "text": [
      " 1 Mixture: Gaussian(1.18615, 1.51252), Gaussian(3.86087, 0.53598), mix=0.747)\n",
      " 1 Mixture: Gaussian(1.273, 1.61308), Gaussian(3.69025, 0.602872), mix=0.756)\n",
      " 1 Mixture: Gaussian(1.28997, 1.66129), Gaussian(3.55661, 0.632147), mix=0.747)\n",
      " 1 Mixture: Gaussian(1.27899, 1.68998), Gaussian(3.45733, 0.646924), mix=0.732)\n",
      " 1 Mixture: Gaussian(1.25485, 1.70802), Gaussian(3.38569, 0.656165), mix=0.715)\n"
     ]
    }
   ],
   "source": [
    "# Check out the fitting process\n",
    "n_iterations = 5\n",
    "best_mix = None\n",
    "best_loglike = float('-inf')\n",
    "mix = GaussianMixture(data)\n",
    "for _ in range(n_iterations):\n",
    "    try:\n",
    "        mix.iterate(verbose=True)\n",
    "        if mix.loglike > best_loglike:\n",
    "            best_loglike = mix.loglike\n",
    "            best_mix = mix\n",
    "    except (ZeroDivisionError, ValueError, RuntimeWarning): # Catch division errors from bad starts, and just throw them out...\n",
    "        pass"
   ]
  },
  {
   "cell_type": "markdown",
   "metadata": {},
   "source": [
    "Ya que los valores convergen, ahora podemos realizar la verdadera mezcla gaussiana, con un número de iteraciones mayor y con un número de reinicios aleatorios."
   ]
  },
  {
   "cell_type": "code",
   "execution_count": 13,
   "metadata": {},
   "outputs": [
    {
     "name": "stdout",
     "output_type": "stream",
     "text": [
      "Computing best model with random restarts...\n",
      "\n",
      "\n",
      "\n",
      "Done. 🙂\n"
     ]
    }
   ],
   "source": [
    "# Find best Mixture Gaussian model\n",
    "n_iterations = 20\n",
    "n_random_restarts = 500\n",
    "best_mix = None\n",
    "best_loglike = float('-inf')\n",
    "print('Computing best model with random restarts...\\n')\n",
    "for _ in range(n_random_restarts):\n",
    "    mix = GaussianMixture(data)\n",
    "    for _ in range(n_iterations):\n",
    "        try:\n",
    "            mix.iterate()\n",
    "            if mix.loglike > best_loglike:\n",
    "                best_loglike = mix.loglike\n",
    "                best_mix = mix\n",
    "        except (ZeroDivisionError, ValueError, RuntimeWarning): # Catch division errors from bad starts, and just throw them out...\n",
    "            pass\n",
    "print('\\n\\nDone. 🙂')"
   ]
  },
  {
   "cell_type": "markdown",
   "metadata": {},
   "source": [
    "Al desplegar la nueva mezcla, podemos observar que se aproxima mejor a los datos."
   ]
  },
  {
   "cell_type": "code",
   "execution_count": 14,
   "metadata": {},
   "outputs": [
    {
     "data": {
      "image/png": "[encoded data removed]",
      "text/plain": [
       "<Figure size 432x288 with 1 Axes>"
      ]
     },
     "metadata": {
      "needs_background": "light"
     },
     "output_type": "display_data"
    }
   ],
   "source": [
    "sns.distplot(data, bins=20, kde=False, norm_hist=True)\n",
    "x = np.linspace(start=-10, stop=10, num=1000)\n",
    "g_both = [best_mix.pdf(e) for e in x]\n",
    "plt.plot(x, g_both, label='gaussian mixture');\n",
    "plt.legend();"
   ]
  },
  {
   "cell_type": "markdown",
   "metadata": {},
   "source": [
    "Ejercicio\n",
    "----\n",
    "\n",
    "Ejecuta nuevamente mezcla gaussiana pero ahora con el archivo bimodal_example2.csv. Ejecuta el programa 8 veces, observa el gráfico resultante de cada ejecución y responde:\n",
    "1. ¿Es el mismo siempre? ¿Por qué?\n",
    "2. ¿De qué manera esto puede afectar el resultado del algoritmo?\n",
    "3. ¿En qué circunstancias piensas que debería ser utilizado GMM?"
   ]
  },
  {
   "cell_type": "markdown",
   "metadata": {},
   "source": [
    "Reto\n",
    "----\n",
    "El algoritmo de GMM es una buena elección para clasificar, incluso con el problema de la clasificación de flores entre setosa, versicolor y virginica.\n",
    "Modifica el código presente para resolver el problema de la clasificación de dichas flores. En lugar de ser una clasificación unidimensional como en los ejemplos presentes, la clasificación de las flores es un problema que presenta 4 dimensiones (largo y ancho de sépalo y pétalo).\n",
    "Puedes encontrar el csv de las flores dentro de este proyecto con el nombre flowers.csv"
   ]
  }
 ],
 "metadata": {
  "kernelspec": {
   "display_name": "Python 2",
   "language": "python",
   "name": "python2"
  },
  "language_info": {
   "codemirror_mode": {
    "name": "ipython",
    "version": 2
   },
   "file_extension": ".py",
   "mimetype": "text/x-python",
   "name": "python",
   "nbconvert_exporter": "python",
   "pygments_lexer": "ipython2",
   "version": "2.7.12"
  }
 },
 "nbformat": 4,
 "nbformat_minor": 2
}
